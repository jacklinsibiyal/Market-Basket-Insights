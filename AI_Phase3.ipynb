{
 "cells": [
  {
   "cell_type": "code",
   "execution_count": 1,
   "id": "0ef7ef4a",
   "metadata": {
    "_cell_guid": "b1076dfc-b9ad-4769-8c92-a6c4dae69d19",
    "_uuid": "8f2839f25d086af736a60e9eeb907d3b93b6e0e5",
    "execution": {
     "iopub.execute_input": "2023-10-13T16:33:51.931765Z",
     "iopub.status.busy": "2023-10-13T16:33:51.931375Z",
     "iopub.status.idle": "2023-10-13T16:33:52.333301Z",
     "shell.execute_reply": "2023-10-13T16:33:52.331996Z"
    },
    "papermill": {
     "duration": 0.411564,
     "end_time": "2023-10-13T16:33:52.338172",
     "exception": false,
     "start_time": "2023-10-13T16:33:51.926608",
     "status": "completed"
    },
    "tags": []
   },
   "outputs": [
    {
     "name": "stdout",
     "output_type": "stream",
     "text": [
      "/kaggle/input/market-basket-analysis/Assignment-1_Data.xlsx\n",
      "/kaggle/input/market-basket-analysis/Assignment-1_Data.csv\n"
     ]
    }
   ],
   "source": [
    "#This is a kaggle notebook.\n",
    "\n",
    "import numpy as np # linear algebra\n",
    "import pandas as pd # data processing, CSV file I/O (e.g. pd.read_csv)\n",
    "import os\n",
    "for dirname, _, filenames in os.walk('/kaggle/input'):\n",
    "    for filename in filenames:\n",
    "        print(os.path.join(dirname, filename))"
   ]
  },
  {
   "cell_type": "markdown",
   "id": "5d38d928",
   "metadata": {
    "papermill": {
     "duration": 0.004531,
     "end_time": "2023-10-13T16:33:52.350034",
     "exception": false,
     "start_time": "2023-10-13T16:33:52.345503",
     "status": "completed"
    },
    "tags": []
   },
   "source": [
    "# Market Basket Analysis Project\n",
    "\n",
    "## Overview\n",
    "This notebook is part of a project focused on market basket analysis. We will begin by loading and preprocessing the dataset.\n",
    "\n",
    "## Dataset Information\n",
    "The dataset is stored in the file `Assignment-1_Data.xlsx` located at `/kaggle/input/market-basket-analysis/`. It contains information related to market transactions.\n",
    "\n",
    "## Loading the Dataset\n",
    "Let's start by loading the dataset into a DataFrame using pandas.\n"
   ]
  },
  {
   "cell_type": "code",
   "execution_count": 2,
   "id": "5280d827",
   "metadata": {
    "execution": {
     "iopub.execute_input": "2023-10-13T16:33:52.357901Z",
     "iopub.status.busy": "2023-10-13T16:33:52.357325Z",
     "iopub.status.idle": "2023-10-13T16:34:44.835315Z",
     "shell.execute_reply": "2023-10-13T16:34:44.834260Z"
    },
    "papermill": {
     "duration": 52.484031,
     "end_time": "2023-10-13T16:34:44.837622",
     "exception": false,
     "start_time": "2023-10-13T16:33:52.353591",
     "status": "completed"
    },
    "tags": []
   },
   "outputs": [],
   "source": [
    "import pandas as pd\n",
    "\n",
    "# Load the dataset\n",
    "dataset_path = '/kaggle/input/market-basket-analysis/Assignment-1_Data.xlsx'\n",
    "df = pd.read_excel(dataset_path)"
   ]
  },
  {
   "cell_type": "markdown",
   "id": "d6c93a47",
   "metadata": {
    "papermill": {
     "duration": 0.002447,
     "end_time": "2023-10-13T16:34:44.842960",
     "exception": false,
     "start_time": "2023-10-13T16:34:44.840513",
     "status": "completed"
    },
    "tags": []
   },
   "source": [
    "# **Initial Exploration**\n",
    "\n",
    "We'll perform an initial exploration of the dataset to understand its structure and characteristics."
   ]
  },
  {
   "cell_type": "code",
   "execution_count": 3,
   "id": "ffe01f8a",
   "metadata": {
    "execution": {
     "iopub.execute_input": "2023-10-13T16:34:44.849827Z",
     "iopub.status.busy": "2023-10-13T16:34:44.849020Z",
     "iopub.status.idle": "2023-10-13T16:34:45.053894Z",
     "shell.execute_reply": "2023-10-13T16:34:45.052722Z"
    },
    "papermill": {
     "duration": 0.211021,
     "end_time": "2023-10-13T16:34:45.056441",
     "exception": false,
     "start_time": "2023-10-13T16:34:44.845420",
     "status": "completed"
    },
    "tags": []
   },
   "outputs": [
    {
     "name": "stdout",
     "output_type": "stream",
     "text": [
      "Number of rows and columns: (522064, 7)\n",
      "\n",
      "Data Types and Missing Values:\n",
      "<class 'pandas.core.frame.DataFrame'>\n",
      "RangeIndex: 522064 entries, 0 to 522063\n",
      "Data columns (total 7 columns):\n",
      " #   Column      Non-Null Count   Dtype         \n",
      "---  ------      --------------   -----         \n",
      " 0   BillNo      522064 non-null  object        \n",
      " 1   Itemname    520609 non-null  object        \n",
      " 2   Quantity    522064 non-null  int64         \n",
      " 3   Date        522064 non-null  datetime64[ns]\n",
      " 4   Price       522064 non-null  float64       \n",
      " 5   CustomerID  388023 non-null  float64       \n",
      " 6   Country     522064 non-null  object        \n",
      "dtypes: datetime64[ns](1), float64(2), int64(1), object(3)\n",
      "memory usage: 27.9+ MB\n",
      "None\n",
      "\n",
      "First few rows of the dataset:\n",
      "   BillNo                             Itemname  Quantity                Date  \\\n",
      "0  536365   WHITE HANGING HEART T-LIGHT HOLDER         6 2010-12-01 08:26:00   \n",
      "1  536365                  WHITE METAL LANTERN         6 2010-12-01 08:26:00   \n",
      "2  536365       CREAM CUPID HEARTS COAT HANGER         8 2010-12-01 08:26:00   \n",
      "3  536365  KNITTED UNION FLAG HOT WATER BOTTLE         6 2010-12-01 08:26:00   \n",
      "4  536365       RED WOOLLY HOTTIE WHITE HEART.         6 2010-12-01 08:26:00   \n",
      "\n",
      "   Price  CustomerID         Country  \n",
      "0   2.55     17850.0  United Kingdom  \n",
      "1   3.39     17850.0  United Kingdom  \n",
      "2   2.75     17850.0  United Kingdom  \n",
      "3   3.39     17850.0  United Kingdom  \n",
      "4   3.39     17850.0  United Kingdom  \n"
     ]
    }
   ],
   "source": [
    "# Display basic information about the dataset\n",
    "print(\"Number of rows and columns:\", df.shape)\n",
    "print(\"\\nData Types and Missing Values:\")\n",
    "print(df.info())\n",
    "print(\"\\nFirst few rows of the dataset:\")\n",
    "print(df.head())"
   ]
  },
  {
   "cell_type": "markdown",
   "id": "9137137b",
   "metadata": {
    "papermill": {
     "duration": 0.002888,
     "end_time": "2023-10-13T16:34:45.062405",
     "exception": false,
     "start_time": "2023-10-13T16:34:45.059517",
     "status": "completed"
    },
    "tags": []
   },
   "source": [
    "# Preprocessing\n",
    "\n",
    "We'll preprocess the data to ensure it's ready for analysis."
   ]
  },
  {
   "cell_type": "code",
   "execution_count": 4,
   "id": "1d39bf16",
   "metadata": {
    "execution": {
     "iopub.execute_input": "2023-10-13T16:34:45.069726Z",
     "iopub.status.busy": "2023-10-13T16:34:45.069343Z",
     "iopub.status.idle": "2023-10-13T16:34:45.260173Z",
     "shell.execute_reply": "2023-10-13T16:34:45.258530Z"
    },
    "papermill": {
     "duration": 0.197182,
     "end_time": "2023-10-13T16:34:45.262370",
     "exception": false,
     "start_time": "2023-10-13T16:34:45.065188",
     "status": "completed"
    },
    "tags": []
   },
   "outputs": [
    {
     "name": "stdout",
     "output_type": "stream",
     "text": [
      "Missing Values:\n",
      "BillNo             0\n",
      "Itemname        1455\n",
      "Quantity           0\n",
      "Date               0\n",
      "Price              0\n",
      "CustomerID    134041\n",
      "Country            0\n",
      "dtype: int64\n"
     ]
    }
   ],
   "source": [
    "#Check Missing Values\n",
    "print(\"Missing Values:\")\n",
    "print(df.isnull().sum())\n",
    "\n",
    "#Drop Rows with Missing Values\n",
    "df.dropna(inplace=True)\n"
   ]
  },
  {
   "cell_type": "code",
   "execution_count": 5,
   "id": "aa674c4f",
   "metadata": {
    "execution": {
     "iopub.execute_input": "2023-10-13T16:34:45.269998Z",
     "iopub.status.busy": "2023-10-13T16:34:45.269097Z",
     "iopub.status.idle": "2023-10-13T16:34:46.206899Z",
     "shell.execute_reply": "2023-10-13T16:34:46.205791Z"
    },
    "papermill": {
     "duration": 0.944145,
     "end_time": "2023-10-13T16:34:46.209380",
     "exception": false,
     "start_time": "2023-10-13T16:34:45.265235",
     "status": "completed"
    },
    "tags": []
   },
   "outputs": [],
   "source": [
    "# Convert dataframe into transaction data\n",
    "transaction_data = df.groupby(['BillNo', 'Date'])['Itemname'].apply(lambda x: ', '.join(x)).reset_index()\n",
    "\n",
    "# Make BillNo and Date as Null\n",
    "transaction_data['BillNo'] = None\n",
    "transaction_data['Date'] = None\n",
    "\n",
    "#Drop Unnecessary Columns\n",
    "columns_to_drop = ['BillNo', 'Date']\n",
    "transaction_data.drop(columns=columns_to_drop, inplace=True)\n",
    "\n",
    "# Save the transaction data to a CSV file\n",
    "transaction_data_path = '/kaggle/working/transaction_data.csv'\n",
    "transaction_data.to_csv(transaction_data_path, index=False)"
   ]
  },
  {
   "cell_type": "code",
   "execution_count": 6,
   "id": "afa6c6d2",
   "metadata": {
    "execution": {
     "iopub.execute_input": "2023-10-13T16:34:46.217275Z",
     "iopub.status.busy": "2023-10-13T16:34:46.216873Z",
     "iopub.status.idle": "2023-10-13T16:34:46.224256Z",
     "shell.execute_reply": "2023-10-13T16:34:46.223075Z"
    },
    "papermill": {
     "duration": 0.014223,
     "end_time": "2023-10-13T16:34:46.226522",
     "exception": false,
     "start_time": "2023-10-13T16:34:46.212299",
     "status": "completed"
    },
    "tags": []
   },
   "outputs": [
    {
     "name": "stdout",
     "output_type": "stream",
     "text": [
      "\n",
      "Transaction Data for Association Rule Mining:\n",
      "                                            Itemname\n",
      "0  WHITE HANGING HEART T-LIGHT HOLDER, WHITE META...\n",
      "1  HAND WARMER UNION JACK, HAND WARMER RED POLKA DOT\n",
      "2  ASSORTED COLOUR BIRD ORNAMENT, POPPY'S PLAYHOU...\n",
      "3  JAM MAKING SET WITH JARS, RED COAT RACK PARIS ...\n",
      "4                           BATH BUILDING BLOCK WORD\n"
     ]
    }
   ],
   "source": [
    "# Display the first few rows of the transaction data\n",
    "print(\"\\nTransaction Data for Association Rule Mining:\")\n",
    "print(transaction_data.head())"
   ]
  }
 ],
 "metadata": {
  "kernelspec": {
   "display_name": "Python 3",
   "language": "python",
   "name": "python3"
  },
  "language_info": {
   "codemirror_mode": {
    "name": "ipython",
    "version": 3
   },
   "file_extension": ".py",
   "mimetype": "text/x-python",
   "name": "python",
   "nbconvert_exporter": "python",
   "pygments_lexer": "ipython3",
   "version": "3.10.12"
  },
  "papermill": {
   "default_parameters": {},
   "duration": 58.20137,
   "end_time": "2023-10-13T16:34:46.752377",
   "environment_variables": {},
   "exception": null,
   "input_path": "__notebook__.ipynb",
   "output_path": "__notebook__.ipynb",
   "parameters": {},
   "start_time": "2023-10-13T16:33:48.551007",
   "version": "2.4.0"
  }
 },
 "nbformat": 4,
 "nbformat_minor": 5
}
